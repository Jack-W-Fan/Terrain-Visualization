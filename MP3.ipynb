{
 "cells": [
  {
   "cell_type": "markdown",
   "metadata": {},
   "source": [
    "# Terrain Visualization"
   ]
  },
  {
   "cell_type": "markdown",
   "metadata": {},
   "source": [
    "In this activity, you will work with creating and manipulating 3D surface meshes using **PyVista**, a Python interface for the **Visualization Toolkit (VTK)**. VTK is a powerful open-source library for computer graphics, visualization, and image processing. You can learn more about both tools through these references:\n",
    "- https://docs.pyvista.org/\n",
    "- https://vtk.org/\n",
    "\n",
    "We will also be using the **itkwidgets** library, which provides interactive Jupyter widgets for plotting, to visualize our meshes.\n",
    "\n",
    "The outline of this activity will be:\n",
    "1. Creating a 3D surface mesh\n",
    "2. Writing code to coarsen the mesh\n",
    "3. Writing code to visualize the error in elevation between the original mesh and the coarse mesh"
   ]
  },
  {
   "cell_type": "markdown",
   "metadata": {},
   "source": [
    "# Part 1: Creating a 3D Surface Mesh\n",
    "We will start by using a topographic surface to create a 3D terrain-following mesh.\n",
    "\n",
    "Terrain following meshes are common in the environmental sciences, for instance\n",
    "in hydrological modelling (see\n",
    "[Maxwell 2013](https://www.sciencedirect.com/science/article/abs/pii/S0309170812002564)\n",
    "and\n",
    "[ParFlow](https://parflow.org)).\n",
    "\n",
    "Below, we domonstrate a simple way to make a 3D grid/mesh that\n",
    "follows a given topographic surface. In this example, it is important to note\n",
    "that the given digital elevation model (DEM) is structured (gridded and not\n",
    "triangulated): this is common for DEMs.\n"
   ]
  },
  {
   "cell_type": "code",
   "execution_count": 30,
   "metadata": {
    "scrolled": true
   },
   "outputs": [],
   "source": [
    "#grade (DO NOT DELETE THIS LINE)\n",
    "import math\n",
    "import numpy as np\n",
    "import pylab as plt\n",
    "import pyvista as pv\n",
    "from pyvista import examples"
   ]
  },
  {
   "cell_type": "code",
   "execution_count": 2,
   "metadata": {
    "scrolled": true
   },
   "outputs": [],
   "source": [
    "%matplotlib widget\n",
    "from pyvista import set_plot_theme\n",
    "set_plot_theme('document')\n",
    "pv.set_jupyter_backend('pythreejs')"
   ]
  },
  {
   "cell_type": "markdown",
   "metadata": {},
   "source": [
    "Download a gridded topography surface (DEM) using one of the examples provided by PyVista.\n",
    "\n"
   ]
  },
  {
   "cell_type": "code",
   "execution_count": 3,
   "metadata": {
    "scrolled": true
   },
   "outputs": [
    {
     "data": {
      "text/html": [
       "<table><tr><th>Header</th><th>Data Arrays</th></tr><tr><td>\n",
       "<table>\n",
       "<tr><th>UniformGrid</th><th>Information</th></tr>\n",
       "<tr><td>N Cells</td><td>1677401</td></tr>\n",
       "<tr><td>N Points</td><td>1680000</td></tr>\n",
       "<tr><td>X Bounds</td><td>1.810e+06, 1.831e+06</td></tr>\n",
       "<tr><td>Y Bounds</td><td>5.640e+06, 5.658e+06</td></tr>\n",
       "<tr><td>Z Bounds</td><td>0.000e+00, 0.000e+00</td></tr>\n",
       "<tr><td>Dimensions</td><td>1400, 1200, 1</td></tr>\n",
       "<tr><td>Spacing</td><td>1.500e+01, 1.500e+01, 0.000e+00</td></tr>\n",
       "<tr><td>N Arrays</td><td>1</td></tr>\n",
       "</table>\n",
       "\n",
       "</td><td>\n",
       "<table>\n",
       "<tr><th>Name</th><th>Field</th><th>Type</th><th>N Comp</th><th>Min</th><th>Max</th></tr>\n",
       "<tr><td><b>scalar1of1</b></td><td>Points</td><td>float64</td><td>1</td><td>7.339e+02</td><td>2.787e+03</td></tr>\n",
       "</table>\n",
       "\n",
       "</td></tr> </table>"
      ],
      "text/plain": [
       "UniformGrid (0x7f30b79d2ca0)\n",
       "  N Cells:\t1677401\n",
       "  N Points:\t1680000\n",
       "  X Bounds:\t1.810e+06, 1.831e+06\n",
       "  Y Bounds:\t5.640e+06, 5.658e+06\n",
       "  Z Bounds:\t0.000e+00, 0.000e+00\n",
       "  Dimensions:\t1400, 1200, 1\n",
       "  Spacing:\t1.500e+01, 1.500e+01, 0.000e+00\n",
       "  N Arrays:\t1"
      ]
     },
     "execution_count": 3,
     "metadata": {},
     "output_type": "execute_result"
    }
   ],
   "source": [
    "dem = examples.download_crater_topo()\n",
    "dem"
   ]
  },
  {
   "cell_type": "markdown",
   "metadata": {},
   "source": [
    "Now let's subsample and extract an area of interest to make this example\n",
    "simple (also the DEM we just loaded is pretty big).\n",
    "Since the DEM we loaded is a `pyvista.UniformGrid` mesh, we can use\n",
    "the `pyvista.UniformGridFilters.extract_subset` filter to extract a 257x257-point (256x256-cell) area from the DEM:\n",
    "\n"
   ]
  },
  {
   "cell_type": "code",
   "execution_count": 4,
   "metadata": {},
   "outputs": [
    {
     "data": {
      "text/html": [
       "<table><tr><th>Header</th><th>Data Arrays</th></tr><tr><td>\n",
       "<table>\n",
       "<tr><th>UniformGrid</th><th>Information</th></tr>\n",
       "<tr><td>N Cells</td><td>65536</td></tr>\n",
       "<tr><td>N Points</td><td>66049</td></tr>\n",
       "<tr><td>X Bounds</td><td>1.819e+06, 1.822e+06</td></tr>\n",
       "<tr><td>Y Bounds</td><td>5.647e+06, 5.651e+06</td></tr>\n",
       "<tr><td>Z Bounds</td><td>0.000e+00, 0.000e+00</td></tr>\n",
       "<tr><td>Dimensions</td><td>257, 257, 1</td></tr>\n",
       "<tr><td>Spacing</td><td>1.500e+01, 1.500e+01, 0.000e+00</td></tr>\n",
       "<tr><td>N Arrays</td><td>1</td></tr>\n",
       "</table>\n",
       "\n",
       "</td><td>\n",
       "<table>\n",
       "<tr><th>Name</th><th>Field</th><th>Type</th><th>N Comp</th><th>Min</th><th>Max</th></tr>\n",
       "<tr><td><b>scalar1of1</b></td><td>Points</td><td>float64</td><td>1</td><td>1.777e+03</td><td>2.787e+03</td></tr>\n",
       "</table>\n",
       "\n",
       "</td></tr> </table>"
      ],
      "text/plain": [
       "UniformGrid (0x7f30b79d2d60)\n",
       "  N Cells:\t65536\n",
       "  N Points:\t66049\n",
       "  X Bounds:\t1.819e+06, 1.822e+06\n",
       "  Y Bounds:\t5.647e+06, 5.651e+06\n",
       "  Z Bounds:\t0.000e+00, 0.000e+00\n",
       "  Dimensions:\t257, 257, 1\n",
       "  Spacing:\t1.500e+01, 1.500e+01, 0.000e+00\n",
       "  N Arrays:\t1"
      ]
     },
     "execution_count": 4,
     "metadata": {},
     "output_type": "execute_result"
    }
   ],
   "source": [
    "subset = dem.extract_subset((572, 828, 472, 728, 0, 0), (1,1,1))\n",
    "subset"
   ]
  },
  {
   "cell_type": "markdown",
   "metadata": {},
   "source": [
    "Let's plot the area we just extracted to see what it looks like."
   ]
  },
  {
   "cell_type": "code",
   "execution_count": 5,
   "metadata": {},
   "outputs": [
    {
     "data": {
      "application/vnd.jupyter.widget-view+json": {
       "model_id": "692dd06be8914d849f48808d4c325d5f",
       "version_major": 2,
       "version_minor": 0
      },
      "text/plain": [
       "Renderer(camera=PerspectiveCamera(aspect=1.3333333333333333, children=(DirectionalLight(intensity=0.25, positi…"
      ]
     },
     "metadata": {},
     "output_type": "display_data"
    }
   ],
   "source": [
    "pv.plot(subset)"
   ]
  },
  {
   "cell_type": "markdown",
   "metadata": {},
   "source": [
    "Now that we have a region of interest for our terrain following mesh, lets\n",
    "make a 3D surface of that DEM."
   ]
  },
  {
   "cell_type": "code",
   "execution_count": 6,
   "metadata": {
    "scrolled": true
   },
   "outputs": [
    {
     "data": {
      "text/html": [
       "<table><tr><th>Header</th><th>Data Arrays</th></tr><tr><td>\n",
       "<table>\n",
       "<tr><th>StructuredGrid</th><th>Information</th></tr>\n",
       "<tr><td>N Cells</td><td>65536</td></tr>\n",
       "<tr><td>N Points</td><td>66049</td></tr>\n",
       "<tr><td>X Bounds</td><td>1.819e+06, 1.822e+06</td></tr>\n",
       "<tr><td>Y Bounds</td><td>5.647e+06, 5.651e+06</td></tr>\n",
       "<tr><td>Z Bounds</td><td>1.777e+03, 2.787e+03</td></tr>\n",
       "<tr><td>Dimensions</td><td>257, 257, 1</td></tr>\n",
       "<tr><td>N Arrays</td><td>1</td></tr>\n",
       "</table>\n",
       "\n",
       "</td><td>\n",
       "<table>\n",
       "<tr><th>Name</th><th>Field</th><th>Type</th><th>N Comp</th><th>Min</th><th>Max</th></tr>\n",
       "<tr><td><b>scalar1of1</b></td><td>Points</td><td>float64</td><td>1</td><td>1.777e+03</td><td>2.787e+03</td></tr>\n",
       "</table>\n",
       "\n",
       "</td></tr> </table>"
      ],
      "text/plain": [
       "StructuredGrid (0x7f30b6e8f1c0)\n",
       "  N Cells:\t65536\n",
       "  N Points:\t66049\n",
       "  X Bounds:\t1.819e+06, 1.822e+06\n",
       "  Y Bounds:\t5.647e+06, 5.651e+06\n",
       "  Z Bounds:\t1.777e+03, 2.787e+03\n",
       "  Dimensions:\t257, 257, 1\n",
       "  N Arrays:\t1"
      ]
     },
     "execution_count": 6,
     "metadata": {},
     "output_type": "execute_result"
    }
   ],
   "source": [
    "terrain = subset.warp_by_scalar() #Warp into a 3D surface mesh (without volume)\n",
    "terrain"
   ]
  },
  {
   "cell_type": "markdown",
   "metadata": {},
   "source": [
    "We can see that our terrain is now a `pyvista.StructuredGrid` mesh. Now let's plot our terrain."
   ]
  },
  {
   "cell_type": "code",
   "execution_count": 7,
   "metadata": {},
   "outputs": [
    {
     "data": {
      "application/vnd.jupyter.widget-view+json": {
       "model_id": "66b88ad54a4143619bef1c84cce77d70",
       "version_major": 2,
       "version_minor": 0
      },
      "text/plain": [
       "Renderer(camera=PerspectiveCamera(aspect=1.3333333333333333, children=(DirectionalLight(intensity=0.25, positi…"
      ]
     },
     "metadata": {},
     "output_type": "display_data"
    }
   ],
   "source": [
    "pv.plot(terrain)"
   ]
  },
  {
   "cell_type": "markdown",
   "metadata": {},
   "source": [
    "## Part 2: Coarsening the Mesh (and Writing Code)\n",
    "In this section, you will write code to generate a new coarse mesh from our `terrain` mesh. Coarse meshes generally provide less accurate solutions, but are computationally faster. \n",
    "\n",
    "Your new mesh should be a `StructuredGrid`, just like the original mesh, but with a lower resolution. This means you will need to redefine the (x, y, z) coordinate points of your mesh. We will explain how to redefine your coordinates a little later on.\n",
    "\n",
    "First, let's start with understanding how to generate a new mesh. You can initialize a new `StructuredGrid` object directly from the three point arrays that each contain the x, y, and z coordinates of all points in the mesh, respectively. Note: Each array is a 3D array with dimensions M x N x 1 (with the z-axis always being of length 1).\n",
    "\n",
    "You will find the following reference helpful: https://docs.pyvista.org/version/stable/examples/00-load/create-explicit-structured-grid.html#sphx-glr-examples-00-load-create-explicit-structured-grid-py.\n",
    "\n",
    "Let's look at the example below for initializing a new `StructuredGrid`."
   ]
  },
  {
   "cell_type": "code",
   "execution_count": 8,
   "metadata": {},
   "outputs": [
    {
     "name": "stderr",
     "output_type": "stream",
     "text": [
      "/opt/conda/lib/python3.8/site-packages/pyvista/utilities/helpers.py:475: UserWarning: Points is not a float type. This can cause issues when transforming or applying filters. Casting to ``np.float32``. Disable this by passing ``force_float=False``.\n",
      "  warnings.warn(\n"
     ]
    },
    {
     "data": {
      "text/html": [
       "\n",
       "<table>\n",
       "<tr><th>StructuredGrid</th><th>Information</th></tr>\n",
       "<tr><td>N Cells</td><td>729</td></tr>\n",
       "<tr><td>N Points</td><td>1000</td></tr>\n",
       "<tr><td>X Bounds</td><td>-1.000e+01, 8.000e+00</td></tr>\n",
       "<tr><td>Y Bounds</td><td>-1.000e+01, 8.000e+00</td></tr>\n",
       "<tr><td>Z Bounds</td><td>-1.000e+01, 8.000e+00</td></tr>\n",
       "<tr><td>Dimensions</td><td>10, 10, 10</td></tr>\n",
       "<tr><td>N Arrays</td><td>0</td></tr>\n",
       "</table>\n",
       "\n"
      ],
      "text/plain": [
       "StructuredGrid (0x7f30b6ea16a0)\n",
       "  N Cells:\t729\n",
       "  N Points:\t1000\n",
       "  X Bounds:\t-1.000e+01, 8.000e+00\n",
       "  Y Bounds:\t-1.000e+01, 8.000e+00\n",
       "  Z Bounds:\t-1.000e+01, 8.000e+00\n",
       "  Dimensions:\t10, 10, 10\n",
       "  N Arrays:\t0"
      ]
     },
     "execution_count": 8,
     "metadata": {},
     "output_type": "execute_result"
    }
   ],
   "source": [
    "xrng = np.arange(-10, 10, 2)                # [-10,  -8,  -6,  -4,  -2,   0,   2,   4,   6,   8]\n",
    "yrng = np.arange(-10, 10, 2)\n",
    "zrng = np.arange(-10, 10, 2)\n",
    "x_example, y_example, z_example = np.meshgrid(xrng, yrng, zrng)\n",
    "grid_example = pv.StructuredGrid(x_example, y_example, z_example)\n",
    "grid_example"
   ]
  },
  {
   "cell_type": "markdown",
   "metadata": {},
   "source": [
    "Now, let's follow the same general steps as in the above example to generate our new coarse mesh from our previously created `terrain` mesh.\n",
    "\n",
    "We can coarsen the mesh by merging every `f` quads/cells into one and dropping the center point, where `f` is your sampling factor aka the factor by which you want to reduce the resolution. In other words, we can produce a reduced version of the mesh by sampling one out of every `f` points along each axis of the mesh.\n",
    "\n",
    "Write code to coarsen `terrain` by a **factor of 2**. In other words, we will be converting the mesh from a 257x257-point mesh to a 129x129-point mesh (or equivalently, a 256x256-cell mesh to a 128x128-cell mesh). \n",
    "\n",
    "In the code block below, complete the implementation of `coarsen(terrain)` by defining three new point arrays, `xnew`, `ynew`, and `znew` and composing them into a new `StructuredGrid` object named `coarse`. Your function should return a tuple containing `(xnew, ynew, znew, coarse)`.\n",
    "You will find the following reference helpful: https://docs.pyvista.org/version/stable/api/core/_autosummary/pyvista.StructuredGrid.html."
   ]
  },
  {
   "cell_type": "code",
   "execution_count": 29,
   "metadata": {
    "nbgrader": {
     "grade": false,
     "grade_id": "coarsenMesh",
     "locked": false,
     "schema_version": 3,
     "solution": true,
     "task": false
    }
   },
   "outputs": [
    {
     "data": {
      "application/vnd.jupyter.widget-view+json": {
       "model_id": "517497b470d24606b3c172ca426ad0e2",
       "version_major": 2,
       "version_minor": 0
      },
      "text/plain": [
       "Renderer(camera=PerspectiveCamera(aspect=1.3333333333333333, children=(DirectionalLight(intensity=0.25, positi…"
      ]
     },
     "metadata": {},
     "output_type": "display_data"
    }
   ],
   "source": [
    "#grade (write your code in this cell and DO NOT DELETE THIS LINE)\n",
    "#NOTE: You do not need to round any values within your results.\n",
    "def coarsen(terrain):\n",
    "    dims = terrain.dimensions\n",
    "    x = terrain.x\n",
    "    y = terrain.y\n",
    "    z = terrain.z\n",
    "    xnew = x[::2, ::2]\n",
    "    ynew = y[::2, ::2]\n",
    "    znew = z[::2, ::2]\n",
    "    coarse = pv.StructuredGrid(xnew, ynew, znew)    \n",
    "    return xnew, ynew, znew, coarse\n",
    "\n",
    "    xnew, ynew, znew, coarse = coarsen(terrain)\n",
    "    pv.plot(coarse)\n",
    "\n",
    "# print(f\"xnew shape: {xnew.shape}\")\n",
    "# print(f\"ynew shape: {ynew.shape}\")\n",
    "# print(f\"znew shape: {znew.shape}\")\n",
    "\n",
    "# # Print the values being checked in the assertions\n",
    "# print(f\"xnew[0][0][0]: {xnew[0][0][0]}\")\n",
    "# print(f\"xnew[5][120][0]: {xnew[5][120][0]}\")\n",
    "# print(f\"ynew[128][120][0]: {ynew[128][120][0]}\")\n",
    "# print(f\"znew[12][12][0]: {znew[12][12][0]}\")"
   ]
  },
  {
   "cell_type": "code",
   "execution_count": 25,
   "metadata": {
    "nbgrader": {
     "grade": true,
     "grade_id": "coarsenMesh_test",
     "locked": true,
     "points": 5,
     "schema_version": 3,
     "solution": false,
     "task": false
    }
   },
   "outputs": [
    {
     "name": "stdout",
     "output_type": "stream",
     "text": [
      "Coarsening from 257 to 129...\n"
     ]
    }
   ],
   "source": [
    "### Tests for coarsenMesh. \n",
    "### Please DO NOT hard-code the answers as we will also be using hidden test cases when grading your submission.\n",
    "    \n",
    "print(f\"Coarsening from {terrain.dimensions[0]} to {math.ceil(terrain.dimensions[0]/2)}...\")\n",
    "xnew, ynew, znew, coarse = coarsen(terrain)\n",
    "\n",
    "assert xnew.shape == (129,129,1)\n",
    "assert ynew.shape == (129,129,1)\n",
    "np.testing.assert_allclose(xnew[0][0][0],1818580, rtol=1e-7)\n",
    "np.testing.assert_allclose(xnew[5][120][0],1818730, rtol=1e-7)\n",
    "np.testing.assert_allclose(ynew[128][120][0],5650680, rtol=1e-7)\n",
    "np.testing.assert_allclose(znew[12][12][0],1880.53, rtol=1e-5)"
   ]
  },
  {
   "cell_type": "markdown",
   "metadata": {},
   "source": [
    "We can plot the z-values of our new coarsened mesh by adding an additional attribute `values` to our mesh, which will contain a normalized, column-major flattened representation of the z-axis values of our grid.\n",
    "\n",
    "See the following reference for more information on array flattening: https://numpy.org/doc/stable/reference/generated/numpy.ndarray.flatten.html"
   ]
  },
  {
   "cell_type": "code",
   "execution_count": 11,
   "metadata": {},
   "outputs": [
    {
     "data": {
      "application/vnd.jupyter.widget-view+json": {
       "model_id": "1f195c570cbe4e01abbc604d5e0542f7",
       "version_major": 2,
       "version_minor": 0
      },
      "text/plain": [
       "Renderer(camera=PerspectiveCamera(aspect=1.3333333333333333, children=(DirectionalLight(intensity=0.25, positi…"
      ]
     },
     "metadata": {},
     "output_type": "display_data"
    }
   ],
   "source": [
    "#Plot the z-values using the viridis (default) color map\n",
    "coarse['values'] = pv.plotting.normalize(coarse.z.flatten(\"F\"))\n",
    "\n",
    "pv.plot(coarse, scalars='values')"
   ]
  },
  {
   "cell_type": "markdown",
   "metadata": {},
   "source": [
    "## Part 3: Visualizing Error Values\n",
    "\n",
    "Now that we have generated our coarse mesh, we can visualize the error in elevation between our coarse mesh and our original mesh. More specifically, we want to compute the error value for each point between the new (bilinearly interpolated) center point elevation and the original. We will then visualize the error as a scalar field on the original mesh."
   ]
  },
  {
   "cell_type": "markdown",
   "metadata": {},
   "source": [
    "Since we will need to bilinearly interpolate the center point elevation (i.e. the z-value) of each point in our coarse mesh in order to match the dimensions of our original mesh, let's define a function to do just that.\n",
    "\n",
    "Define the function `bilin()` to bilinearly interpolate the value at coordinates `(x,y)` within a rectilinear grid of points.\n",
    "\n",
    "**The parameters of your function are:**\n",
    "- `x` = x-coordinate of point whose value we wish to interpolate\n",
    "- `y` = y-coordinate of point whose value we wish to interpolate\n",
    "- `points` = a list of four triplets of the form `(xc, yc, val)`, where `val` denotes the function value associated with coordinates `(xc, yc)`\n",
    "\n",
    "This function should return a bilinearly interpolated value associated with coordinate `(x,y)` w.r.t the rectilinear grid formed by `points`.\n",
    "\n",
    "**Hints:**\n",
    "- You may assume the four triplets within `points` form a valid rectangle\n",
    "- You may assume `x` and `y` fall within the rectangle formed by the `points` parameter\n",
    "- You should NOT assume the four triplets within `points` are in any specific order"
   ]
  },
  {
   "cell_type": "code",
   "execution_count": 12,
   "metadata": {
    "nbgrader": {
     "grade": false,
     "grade_id": "bilin",
     "locked": false,
     "schema_version": 3,
     "solution": true,
     "task": false
    }
   },
   "outputs": [],
   "source": [
    "#grade (write your code in this cell and DO NOT DELETE THIS LINE)\n",
    "#NOTE: You do not need to round any values within your results.\n",
    "def bilin(x, y, points):\n",
    "    points.sort(key=lambda element: (element[0], element[1]))\n",
    "    x1, y1, q11 = points[0]\n",
    "    x2, y2, q22 = points[3]\n",
    "    q12 = points[1][2]\n",
    "    q21 = points[2][2]\n",
    "\n",
    "    if x1 == x2:\n",
    "        return q11 * (y2 - y) / (y2 - y1) + q21 * (y - y1) / (y2 - y1)\n",
    "    elif y1 == y2:\n",
    "        return q11 * (x2 - x) / (x2 - x1) + q12 * (x - x1) / (x2 - x1)\n",
    "    else:\n",
    "        return (q11 * (x2 - x) * (y2 - y) +\n",
    "                q21 * (x - x1) * (y2 - y) +\n",
    "                q12 * (x2 - x) * (y - y1) +\n",
    "                q22 * (x - x1) * (y - y1)) / ((x2 - x1) * (y2 - y1))\n",
    "# testing_points = [(1, 1, 3), (3, 1, 6), (1, 3, 7), (3, 3, 9)]\n",
    "# result = bilin(2, 2, testing_points)\n",
    "# print(f\"Result for (2, 2): {result}\")\n",
    "# result = bilin(2.5, 2.5, testing_points)\n",
    "# print(f\"Result for (2.5, 2.5): {result}\")\n",
    "# result = bilin(1.1, 1.1, testing_points)\n",
    "# print(f\"Result for (1.1, 1.1): {result}\")"
   ]
  },
  {
   "cell_type": "code",
   "execution_count": 13,
   "metadata": {
    "nbgrader": {
     "grade": true,
     "grade_id": "bilin_test",
     "locked": true,
     "points": 5,
     "schema_version": 3,
     "solution": false,
     "task": false
    }
   },
   "outputs": [],
   "source": [
    "### Tests for bilin(x, y, points) function. \n",
    "### Please DO NOT hard-code the answers as we will also be using hidden test cases when grading your submission.\n",
    "testing_points = [(1,1,3), (3,1,6), (1,3,7), (3,3,9)]\n",
    "result = bilin(2,2,testing_points)\n",
    "np.testing.assert_allclose(result,6.25, rtol=1e-2)\n",
    "result = bilin(2.5,2.5,testing_points)\n",
    "np.testing.assert_allclose(result,7.6875, rtol=1e-3)\n",
    "result = bilin(1.1,1.1,testing_points)\n",
    "np.testing.assert_allclose(result,3.3475, rtol=1e-3)"
   ]
  },
  {
   "cell_type": "markdown",
   "metadata": {},
   "source": [
    "Now, using your `bilin()` function, create a new mesh or `StructuredGrid` object named `intmesh`, reconstructed from `coarse` using bilinear interpolation, with the same dimensions as our original mesh `terrain`. Your new mesh should contain the interpolated z-values for each point in `terrain`.\n",
    "\n",
    "As a starting point, we have defined some of the variables that will be helpful to you for creating your new interpolated mesh. Specifically, we will be checking the values in `errz` and `intz`, as defined below:\n",
    "- `intz`: a 3D array with the same shape as `terrain.z` that will contain the bilinearly interpolated z-values from the coarsened mesh.<br/>**Note:** `intz` is a 3D M x N x 1 array where the last dimension contains the z-values. You should note this when assigning elements to `intz`. The interpolated mesh is a 3D M by N by 1 array, so tests will fail if you assign values to it as if it were just a 2D M by N array, bypassing the z-axis entirely. So, if your code looks like `intz[x][y] = bilin(...)` the fix is to change it to something like `intz[x][y] = [ bilin(...) ]` or  `intz[x][y][0] = bilin(...)`.\n",
    "\n",
    "- `errz`: a list of scalar values. This should contain the absolute error values between each z-value in the original mesh and each interpolated z-value in the new returned mesh\n",
    "\n",
    "Just like how we added the attribute `values` to our coarse mesh in order to plot the z-values of the mesh, you should add an additional attribute `errors` to `intmesh` in order to plot the absolute error values between the z-values in the original mesh and the interpolated z-values in our new returned mesh.\n",
    "\n",
    "In the code block below, complete the implementation of `reconstructMesh(terrain,coarse)`, which should return a tuple containing `(intz, errz, intmesh)`."
   ]
  },
  {
   "cell_type": "code",
   "execution_count": 22,
   "metadata": {
    "nbgrader": {
     "grade": false,
     "grade_id": "vizError",
     "locked": false,
     "schema_version": 3,
     "solution": true,
     "task": false
    }
   },
   "outputs": [],
   "source": [
    "#grade (write your code in this cell and DO NOT DELETE THIS LINE)\n",
    "#NOTE: You do not need to round any values within your results.\n",
    "def reconstructMesh(terrain,coarse):\n",
    "    errz   = [] #Create a new empty list for holding absolute error values\n",
    "    intz   = np.zeros_like(terrain.z) #Create a new array for holding bilinearly interpolated values from coarse mesh\n",
    "    scale  = (terrain.z.shape[0]-1)/(coarse.z.shape[0]-1) #Reduction factor between original and coarse; should equal 2\n",
    "    for i in range(terrain.dimensions[0]):\n",
    "        for j in range(terrain.dimensions[1]):\n",
    "            x = i / scale\n",
    "            y = j / scale\n",
    "\n",
    "            x1 = int(np.floor(x))\n",
    "            x2 = min(x1 + 1, coarse.dimensions[0] - 1)\n",
    "            y1 = int(np.floor(y))\n",
    "            y2 = min(y1 + 1, coarse.dimensions[1] - 1)\n",
    "\n",
    "            points = [\n",
    "                (x1 * scale, y1 * scale, coarse.z[x1, y1, 0]),\n",
    "                (x2 * scale, y1 * scale, coarse.z[x2, y1, 0]),\n",
    "                (x1 * scale, y2 * scale, coarse.z[x1, y2, 0]),\n",
    "                (x2 * scale, y2 * scale, coarse.z[x2, y2, 0]),\n",
    "            ]\n",
    "\n",
    "            intz[i, j, 0] = bilin(i, j, points)\n",
    "            errz.append(abs(intz[i, j, 0] - terrain.z[i, j, 0]))\n",
    "\n",
    "    intmesh = pv.StructuredGrid(terrain.x, terrain.y, intz)\n",
    "    intmesh['errors'] = errz\n",
    "    return intz, errz, intmesh\n",
    "\n",
    "    intz, errz, intmesh = reconstructMesh(terrain, coarse)\n",
    "    intmesh.plot(scalars='errors')\n",
    "\n",
    "# intz, errz, intmesh = reconstructMesh(terrain,coarse)\n",
    "# print(intz[130][130][0])\n",
    "# print(intz[247][13][0])\n",
    "# print(errz[89])\n",
    "# print(errz[30678])\n",
    "# print(errz[-10])"
   ]
  },
  {
   "cell_type": "code",
   "execution_count": 23,
   "metadata": {
    "nbgrader": {
     "grade": true,
     "grade_id": "vizError_tests",
     "locked": true,
     "points": 5,
     "schema_version": 3,
     "solution": false,
     "task": false
    }
   },
   "outputs": [
    {
     "name": "stderr",
     "output_type": "stream",
     "text": [
      "<ipython-input-12-c5a08a610bc7>:11: RuntimeWarning: invalid value encountered in double_scalars\n",
      "  return q11 * (y2 - y) / (y2 - y1) + q21 * (y - y1) / (y2 - y1)\n"
     ]
    }
   ],
   "source": [
    "### Tests for vizError. \n",
    "### Please DO NOT hard-code the answers as we will also be using hidden test cases when grading your submission.\n",
    "intz, errz, intmesh = reconstructMesh(terrain,coarse)\n",
    "np.testing.assert_allclose(intz[130][130][0],2547.8, rtol=1e-4)\n",
    "np.testing.assert_allclose(intz[247][13][0],2142.71, rtol=1e-5)\n",
    "np.testing.assert_allclose(errz[89],1.89996337890625, rtol=1e-2)\n",
    "np.testing.assert_allclose(errz[30678],1.18499755859375, rtol=1e-2)\n",
    "np.testing.assert_allclose(errz[-10],1.0299072265625, rtol=1e-2)"
   ]
  },
  {
   "cell_type": "code",
   "execution_count": 18,
   "metadata": {},
   "outputs": [
    {
     "data": {
      "text/html": [
       "<table><tr><th>Header</th><th>Data Arrays</th></tr><tr><td>\n",
       "<table>\n",
       "<tr><th>StructuredGrid</th><th>Information</th></tr>\n",
       "<tr><td>N Cells</td><td>65536</td></tr>\n",
       "<tr><td>N Points</td><td>66049</td></tr>\n",
       "<tr><td>X Bounds</td><td>1.819e+06, 1.822e+06</td></tr>\n",
       "<tr><td>Y Bounds</td><td>5.647e+06, 5.651e+06</td></tr>\n",
       "<tr><td>Z Bounds</td><td>1.778e+03, 2.780e+03</td></tr>\n",
       "<tr><td>Dimensions</td><td>257, 257, 1</td></tr>\n",
       "<tr><td>N Arrays</td><td>1</td></tr>\n",
       "</table>\n",
       "\n",
       "</td><td>\n",
       "<table>\n",
       "<tr><th>Name</th><th>Field</th><th>Type</th><th>N Comp</th><th>Min</th><th>Max</th></tr>\n",
       "<tr><td><b>errors</b></td><td>Points</td><td>float32</td><td>1</td><td>0.000e+00</td><td>1.327e+01</td></tr>\n",
       "</table>\n",
       "\n",
       "</td></tr> </table>"
      ],
      "text/plain": [
       "StructuredGrid (0x7f30b4a9b7c0)\n",
       "  N Cells:\t65536\n",
       "  N Points:\t66049\n",
       "  X Bounds:\t1.819e+06, 1.822e+06\n",
       "  Y Bounds:\t5.647e+06, 5.651e+06\n",
       "  Z Bounds:\t1.778e+03, 2.780e+03\n",
       "  Dimensions:\t257, 257, 1\n",
       "  N Arrays:\t1"
      ]
     },
     "execution_count": 18,
     "metadata": {},
     "output_type": "execute_result"
    }
   ],
   "source": [
    "intmesh"
   ]
  },
  {
   "cell_type": "markdown",
   "metadata": {},
   "source": [
    "Now we can visualize the error values that we computed! We recommend adjusting the color map to better visualize the error values. You can change the color map by clicking the settings icon at the top left of the interface."
   ]
  },
  {
   "cell_type": "code",
   "execution_count": 19,
   "metadata": {},
   "outputs": [
    {
     "name": "stdout",
     "output_type": "stream",
     "text": [
      "Visualizing error between resolutions 257 and 129...\n"
     ]
    },
    {
     "data": {
      "application/vnd.jupyter.widget-view+json": {
       "model_id": "a65c131980db4e809b08fc847fe7070c",
       "version_major": 2,
       "version_minor": 0
      },
      "text/plain": [
       "Renderer(camera=PerspectiveCamera(aspect=1.3333333333333333, children=(DirectionalLight(intensity=0.25, positi…"
      ]
     },
     "metadata": {},
     "output_type": "display_data"
    }
   ],
   "source": [
    "print(f\"Visualizing error between resolutions {terrain.dimensions[0]} and {math.ceil(terrain.dimensions[0]/2)}...\")\n",
    "\n",
    "pv.plot(intmesh, scalars='errors')"
   ]
  },
  {
   "cell_type": "markdown",
   "metadata": {},
   "source": [
    "For reference, here is a sample of what your final visualization should look like (with the magma colormap applied):\n",
    "<img src='error-visualization.png' width=600/>"
   ]
  },
  {
   "cell_type": "markdown",
   "metadata": {},
   "source": [
    "As you can see the error values are represented in thin lines. One of the things that can be done to visualize the erroneous regions in a clearer way is to smooth the image. There are different methods for image smoothing, but here we use a simple one that updates the error value of each pixel as the average of the error of its surrounding pixels. For this purpose we want to use a $k \\times k$ 2D convolution with a value of $\\frac{1}{k^2}$ at each element. `scipy.signal` has an implementation of this function. The `errz` list that your `reconstructMesh` outputs is $1$-dimensional, so you would have to reshape it to the correct dimensions of your grid before giving that as input to the `convolve2d` function. You need to flatten this array again before returning that in the function below. For `convolve2d`, use the symmetrical boundary condition (see this for more info: \n",
    "[convolve2d](https://docs.scipy.org/doc/scipy/reference/generated/scipy.signal.convolve2d.html))"
   ]
  },
  {
   "cell_type": "code",
   "execution_count": 26,
   "metadata": {
    "nbgrader": {
     "grade": false,
     "grade_id": "smoothError_tests",
     "locked": false,
     "schema_version": 3,
     "solution": true,
     "task": false
    }
   },
   "outputs": [],
   "source": [
    "#grade (write your code in this cell and DO NOT DELETE THIS LINE)\n",
    "#NOTE: You do not need to round any values within your results.\n",
    "from scipy import signal\n",
    "\n",
    "def smoothed_errors(errz, shape, kernel_size):\n",
    "    errz_reshaped = np.reshape(errz, shape)\n",
    "    kernel = np.ones((kernel_size, kernel_size)) / (kernel_size**2)\n",
    "    smoothed = signal.convolve2d(errz_reshaped, kernel, boundary='symm', mode='same')\n",
    "    return smoothed.flatten()\n",
    "\n",
    "    shape = (terrain.z.shape[0], terrain.z.shape[1])\n",
    "    np.random.seed(1)\n",
    "    rand_errz = np.random.uniform(low=0.0, high=1.0, size=len(errz))\n",
    "    smoothed_errz = smoothed_errors(rand_errz, shape, 4)"
   ]
  },
  {
   "cell_type": "code",
   "execution_count": 27,
   "metadata": {
    "nbgrader": {
     "grade": true,
     "grade_id": "smoothError_tests",
     "locked": true,
     "points": 5,
     "schema_version": 3,
     "solution": false,
     "task": false
    }
   },
   "outputs": [],
   "source": [
    "### Tests for smoothing the error. \n",
    "### Please DO NOT hard-code the answers as we will also be using hidden test cases when grading your submission.\n",
    "shape = (terrain.z.shape[0], terrain.z.shape[1])\n",
    "np.random.seed(1)\n",
    "rand_errz = np.random.uniform(low=0.0, high=1.0, size=len(errz))\n",
    "smoothed_errz = smoothed_errors(rand_errz, shape, 4)\n",
    "np.testing.assert_allclose(smoothed_errz[95],0.5182084931710876, rtol=1e-2)\n",
    "np.testing.assert_allclose(smoothed_errz[103],0.6119100598363368, rtol=1e-2)"
   ]
  },
  {
   "cell_type": "markdown",
   "metadata": {},
   "source": [
    "Now we can use this function to smooth the error values before visualizing it."
   ]
  },
  {
   "cell_type": "code",
   "execution_count": null,
   "metadata": {},
   "outputs": [],
   "source": [
    "smoothed_errz = smoothed_errors(errz, shape, 2)\n",
    "intmesh['errors'] = pv.plotting.normalize(smoothed_errz)\n",
    "pl = pv.plot(intmesh, scalars='errors')"
   ]
  },
  {
   "cell_type": "markdown",
   "metadata": {},
   "source": [
    "As we increase the kernel size, the error values become smoother and less informative about the specific regions with higher error values:"
   ]
  },
  {
   "cell_type": "code",
   "execution_count": null,
   "metadata": {},
   "outputs": [],
   "source": [
    "smoothed_errz = smoothed_errors(errz, shape, 5)\n",
    "intmesh['errors'] = pv.plotting.normalize(smoothed_errz)\n",
    "pl = pv.plot(intmesh, scalars='errors')"
   ]
  },
  {
   "cell_type": "markdown",
   "metadata": {},
   "source": [
    "One way to keep the regions with larger error values in such visualizations more noticeable is to apply a non-linear transformation to the error values. One such simple transformation is to raise all the values to the same power. If this value is larger than 1, the larger values increase more greatly compared to the smaller values. If the power is less than 1, the values become more similar to each other:"
   ]
  },
  {
   "cell_type": "code",
   "execution_count": null,
   "metadata": {},
   "outputs": [],
   "source": [
    "smoothed_errz = smoothed_errors(errz, shape, 5)\n",
    "transformed_errz = smoothed_errz**2\n",
    "intmesh['errors'] = pv.plotting.normalize(transformed_errz)\n",
    "pl = pv.plot(intmesh, scalars='errors')"
   ]
  },
  {
   "cell_type": "code",
   "execution_count": null,
   "metadata": {},
   "outputs": [],
   "source": [
    "smoothed_errz = smoothed_errors(errz, shape, 5)\n",
    "transformed_errz = smoothed_errz**0.5\n",
    "intmesh['errors'] = pv.plotting.normalize(transformed_errz)\n",
    "pl = pv.plot(intmesh, scalars='errors')"
   ]
  }
 ],
 "metadata": {
  "celltoolbar": "Create Assignment",
  "kernelspec": {
   "display_name": "Python 3",
   "language": "python",
   "name": "python3"
  },
  "language_info": {
   "codemirror_mode": {
    "name": "ipython",
    "version": 3
   },
   "file_extension": ".py",
   "mimetype": "text/x-python",
   "name": "python",
   "nbconvert_exporter": "python",
   "pygments_lexer": "ipython3",
   "version": "3.8.6"
  }
 },
 "nbformat": 4,
 "nbformat_minor": 4
}
